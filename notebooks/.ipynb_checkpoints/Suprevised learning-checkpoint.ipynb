{
 "cells": [
  {
   "cell_type": "markdown",
   "metadata": {},
   "source": [
    "## Suprevised learning\n",
    "\n",
    "We gaan kijken wat er mogelijk is met suprevised learning, door de data van de fiets snelwegen met elkaar te vergelijken. "
   ]
  },
  {
   "cell_type": "code",
   "execution_count": 152,
   "metadata": {
    "collapsed": true
   },
   "outputs": [],
   "source": [
    "# Library imports\n",
    "import pandas as pd\n",
    "import geopandas as gpd\n",
    "import matplotlib.pyplot as plt\n",
    "from sklearn import metrics"
   ]
  },
  {
   "cell_type": "code",
   "execution_count": 151,
   "metadata": {
    "collapsed": true
   },
   "outputs": [],
   "source": [
    "# Functions for correlation and performance measurement\n",
    "\n",
    "# Check correlation within the data\n",
    "def plot_corr(df,size=10):\n",
    "    corr = df.corr()\n",
    "    fig, ax = plt.subplots(figsize=(size, size))\n",
    "    ax.matshow(corr,cmap=plt.cm.Oranges)\n",
    "    plt.xticks(range(len(corr.columns)), corr.columns)\n",
    "    plt.yticks(range(len(corr.columns)), corr.columns)\n",
    "    for tick in ax.get_xticklabels():\n",
    "        tick.set_rotation(45) \n",
    "    plt.show()\n",
    "\n",
    "# Measure performance \n",
    "def measure_performance(X, y, clf, show_accuracy=True, show_classification_report=True, show_confusion_matrix=True):\n",
    "    y_pred = clf.predict(X)\n",
    "    if show_accuracy:\n",
    "        print(\"Accuracy:{0:.3f}\".format(metrics.accuracy_score(y, y_pred)),\"\\n\")\n",
    "\n",
    "    if show_classification_report:\n",
    "        print(\"Classification report\")\n",
    "        print(metrics.classification_report(y,y_pred),\"\\n\")\n",
    "\n",
    "    if show_confusion_matrix:\n",
    "        print(\"Confusion matrix\")\n",
    "        print(metrics.confusion_matrix(y,y_pred),\"\\n\")"
   ]
  },
  {
   "cell_type": "code",
   "execution_count": 86,
   "metadata": {
    "collapsed": true
   },
   "outputs": [],
   "source": [
    "# Import on each year\n",
    "pd_2015 = gpd.read_file('data/Oss - Den Bosch 2015.geojson')\n",
    "pd_2016 = gpd.read_file('data/Oss - Den Bosch 2016.geojson')\n",
    "pd_2017 = gpd.read_file('data/Oss - Den Bosch 2017.geojson')\n",
    "\n",
    "# All years together\n",
    "pd_all = gpd.read_file('data/netwerk-2016.json')\n",
    "\n",
    "pd_all.info()"
   ]
  },
  {
   "cell_type": "code",
   "execution_count": 76,
   "metadata": {
    "collapsed": true
   },
   "outputs": [],
   "source": [
    "# Clean the dataset to ready it for machine learning\n",
    "\n",
    "# Map the highway to numbers\n",
    "pd_all['HIGHWAY_LABEL'] = pd_all['HIGHWAY'].map({'cycleway' : 0, 'secondary': 1, 'residential': 1, 'tertiary': 3\n",
    "                                                   , 'footway': 4, 'pedestrian': 5, 'unclassified': 6, 'service': 7\n",
    "                                                   , 'secondary_link': 8, 'path': 9,'steps': 10, 'track': 11 })\n",
    "\n",
    "\n",
    "# pd_2016['PLAATS_LABEL'] = pd_2016['Plaats'].map({'Oss': 0, \"'S-Hertogenbosch\": 1, 'Geffen': 2, 'Rosmalen': 3\n",
    "#                                                  , 'Nuland': 4,'Kruisstraat': 5})\n",
    "\n",
    "# Convert all numbers to numbers\n",
    "pd_all['INTENSITEI'] = pd_all['INTENSITEI'].astype(float)\n",
    "pd_all['INTENSI_01'] = pd_all['INTENSI_01'].astype(float)\n",
    "pd_all['SPEED'] = pd_all['SPEED'].astype(float)\n",
    "pd_all['LINKNUMMER'] = pd_all['LINKNUMMER'].astype(float)\n",
    "pd_all['SNELHEID_R'] = pd_all['SNELHEID_R'].astype(float)\n",
    "\n",
    "# Drop all NaN values in the dataset\n",
    "pd_all = pd_all.dropna()"
   ]
  },
  {
   "cell_type": "code",
   "execution_count": 69,
   "metadata": {},
   "outputs": [
    {
     "data": {
      "image/png": "[encoded data removed]",
      "text/plain": [
       "<matplotlib.figure.Figure at 0x11c13bc18>"
      ]
     },
     "metadata": {},
     "output_type": "display_data"
    }
   ],
   "source": [
    "from sklearn.utils import shuffle\n",
    "\n",
    "pd_all = pd_all(df) # Shuffle the dataset to randomize the data\n",
    "\n",
    "# Features\n",
    "x = pd_all[['INTENSITEI', 'INTENSI_01', 'SPEED', 'LINKNUMMER', 'SNELHEID_R']]\n",
    "# Label\n",
    "y = pd_all['HIGHWAY_LABEL']\n",
    "\n",
    "# Check data for correlation\n",
    "plot_corr(x)"
   ]
  },
  {
   "cell_type": "code",
   "execution_count": 70,
   "metadata": {},
   "outputs": [
    {
     "name": "stdout",
     "output_type": "stream",
     "text": [
      "(827371, 5) (827371,)\n"
     ]
    }
   ],
   "source": [
    "x_train, x_test, y_train, y_test = train_test_split(x, y, test_size=0.25, random_state=33)\n",
    "print(x_train.shape, y_train.shape)"
   ]
  },
  {
   "cell_type": "code",
   "execution_count": 42,
   "metadata": {},
   "outputs": [
    {
     "name": "stdout",
     "output_type": "stream",
     "text": [
      "Accuracy:0.529 \n",
      "\n",
      "Classification report\n",
      "             precision    recall  f1-score   support\n",
      "\n",
      "        0.0       0.57      0.55      0.56     69547\n",
      "        1.0       0.37      0.37      0.37      6578\n",
      "        2.0       0.53      0.54      0.53     41168\n",
      "        3.0       0.48      0.48      0.48     27049\n",
      "        4.0       0.45      0.46      0.45     24148\n",
      "        5.0       0.30      0.31      0.30      4644\n",
      "        6.0       0.63      0.63      0.63     78266\n",
      "        7.0       0.31      0.32      0.31     10024\n",
      "        8.0       0.11      0.07      0.09        14\n",
      "        9.0       0.36      0.36      0.36      6306\n",
      "       10.0       0.05      0.05      0.05       953\n",
      "       11.0       0.39      0.39      0.39      7094\n",
      "\n",
      "avg / total       0.53      0.53      0.53    275791\n",
      " \n",
      "\n"
     ]
    }
   ],
   "source": [
    "from sklearn.tree import DecisionTreeClassifier\n",
    "\n",
    "# This max_depth gave the best score\n",
    "clf = DecisionTreeClassifier(criterion = 'entropy', max_depth=50, max_features=5)\n",
    "clf = clf.fit(x_train, y_train)\n",
    "\n",
    "measure_performance(x_test, y_test, clf, show_classification_report=True, show_confusion_matrix=False)"
   ]
  },
  {
   "cell_type": "code",
   "execution_count": 41,
   "metadata": {},
   "outputs": [
    {
     "name": "stdout",
     "output_type": "stream",
     "text": [
      "Accuracy:0.559 \n",
      "\n",
      "Classification report\n",
      "             precision    recall  f1-score   support\n",
      "\n",
      "        0.0       0.52      0.77      0.62     69547\n",
      "        1.0       0.69      0.17      0.27      6578\n",
      "        2.0       0.66      0.44      0.53     41168\n",
      "        3.0       0.62      0.32      0.42     27049\n",
      "        4.0       0.41      0.49      0.44     24148\n",
      "        5.0       0.52      0.17      0.26      4644\n",
      "        6.0       0.62      0.71      0.66     78266\n",
      "        7.0       0.48      0.15      0.23     10024\n",
      "        8.0       0.00      0.00      0.00        14\n",
      "        9.0       0.52      0.19      0.28      6306\n",
      "       10.0       0.10      0.01      0.02       953\n",
      "       11.0       0.52      0.22      0.31      7094\n",
      "\n",
      "avg / total       0.57      0.56      0.54    275791\n",
      " \n",
      "\n"
     ]
    },
    {
     "name": "stderr",
     "output_type": "stream",
     "text": [
      "/Users/robvangastel/anaconda/lib/python3.6/site-packages/sklearn/metrics/classification.py:1113: UndefinedMetricWarning: Precision and F-score are ill-defined and being set to 0.0 in labels with no predicted samples.\n",
      "  'precision', 'predicted', average, warn_for)\n"
     ]
    }
   ],
   "source": [
    "from sklearn.ensemble import RandomForestClassifier\n",
    "\n",
    "clf = RandomForestClassifier(n_estimators=10, max_depth=20, max_features=5)\n",
    "clf = clf.fit(x_train, y_train)\n",
    "\n",
    "measure_performance(x_test, y_test, clf, show_classification_report=True, show_confusion_matrix=False)"
   ]
  },
  {
   "cell_type": "code",
   "execution_count": 49,
   "metadata": {},
   "outputs": [
    {
     "name": "stdout",
     "output_type": "stream",
     "text": [
      "Accuracy:0.252 \n",
      "\n",
      "Classification report\n",
      "             precision    recall  f1-score   support\n",
      "\n",
      "        0.0       0.25      1.00      0.40     69547\n",
      "        1.0       0.00      0.00      0.00      6578\n",
      "        2.0       0.00      0.00      0.00     41168\n",
      "        3.0       0.00      0.00      0.00     27049\n",
      "        4.0       0.00      0.00      0.00     24148\n",
      "        5.0       0.00      0.00      0.00      4644\n",
      "        6.0       0.00      0.00      0.00     78266\n",
      "        7.0       0.00      0.00      0.00     10024\n",
      "        8.0       0.00      0.00      0.00        14\n",
      "        9.0       0.00      0.00      0.00      6306\n",
      "       10.0       0.00      0.00      0.00       953\n",
      "       11.0       0.00      0.00      0.00      7094\n",
      "\n",
      "avg / total       0.06      0.25      0.10    275791\n",
      " \n",
      "\n"
     ]
    },
    {
     "name": "stderr",
     "output_type": "stream",
     "text": [
      "/Users/robvangastel/anaconda/lib/python3.6/site-packages/sklearn/metrics/classification.py:1113: UndefinedMetricWarning: Precision and F-score are ill-defined and being set to 0.0 in labels with no predicted samples.\n",
      "  'precision', 'predicted', average, warn_for)\n"
     ]
    }
   ],
   "source": [
    "from sklearn.linear_model import LogisticRegression\n",
    "\n",
    "clf = LogisticRegression()\n",
    "clf = clf.fit(x_train, y_train)\n",
    "\n",
    "measure_performance(x_test, y_test, clf, show_classification_report=True, show_confusion_matrix=False)"
   ]
  },
  {
   "cell_type": "markdown",
   "metadata": {
    "collapsed": true
   },
   "source": [
    "Try KKNeighbors after the classification of a score of 55,9% for RandomForrest and a score of 25,2% for LogisticRegression."
   ]
  },
  {
   "cell_type": "code",
   "execution_count": 50,
   "metadata": {},
   "outputs": [
    {
     "name": "stdout",
     "output_type": "stream",
     "text": [
      "Accuracy:0.679 \n",
      "\n",
      "Classification report\n",
      "             precision    recall  f1-score   support\n",
      "\n",
      "        0.0       0.67      0.78      0.72     69547\n",
      "        1.0       0.63      0.61      0.62      6578\n",
      "        2.0       0.66      0.69      0.67     41168\n",
      "        3.0       0.68      0.67      0.67     27049\n",
      "        4.0       0.62      0.61      0.62     24148\n",
      "        5.0       0.53      0.39      0.45      4644\n",
      "        6.0       0.74      0.73      0.74     78266\n",
      "        7.0       0.55      0.33      0.42     10024\n",
      "        8.0       0.00      0.00      0.00        14\n",
      "        9.0       0.57      0.41      0.47      6306\n",
      "       10.0       0.18      0.03      0.05       953\n",
      "       11.0       0.60      0.44      0.51      7094\n",
      "\n",
      "avg / total       0.67      0.68      0.67    275791\n",
      " \n",
      "\n"
     ]
    }
   ],
   "source": [
    "from sklearn.neighbors import KNeighborsClassifier\n",
    "\n",
    "clf = KNeighborsClassifier()\n",
    "clf = clf.fit(x_train, y_train)\n",
    "\n",
    "measure_performance(x_test, y_test, clf, show_classification_report=True, show_confusion_matrix=False)"
   ]
  },
  {
   "cell_type": "markdown",
   "metadata": {},
   "source": [
    "We used all features and noticed in the correlation, intensitei and intensit_01 and speed and snelheid_R have a strong correlation and are redundant obviously. So we reduced the features to 3."
   ]
  },
  {
   "cell_type": "code",
   "execution_count": 155,
   "metadata": {
    "collapsed": true
   },
   "outputs": [],
   "source": [
    "# Reduce the size of the X-axis to 3 features.\n",
    "x = pd_all[['INTENSITEI', 'SPEED', 'LINKNUMMER']]\n",
    "\n",
    "# In testing this we noticed the best way for classification of the roads is linknummer\n",
    "\n",
    "x_train, x_test, y_train, y_test = train_test_split(x, y, test_size=0.25, random_state=33)\n",
    "print(x_train.shape, y_train.shape)"
   ]
  },
  {
   "cell_type": "code",
   "execution_count": 61,
   "metadata": {},
   "outputs": [
    {
     "name": "stdout",
     "output_type": "stream",
     "text": [
      "Accuracy:0.680 \n",
      "\n",
      "Classification report\n",
      "             precision    recall  f1-score   support\n",
      "\n",
      "        0.0       0.67      0.78      0.72     69547\n",
      "        1.0       0.63      0.61      0.62      6578\n",
      "        2.0       0.66      0.69      0.67     41168\n",
      "        3.0       0.68      0.67      0.67     27049\n",
      "        4.0       0.63      0.61      0.62     24148\n",
      "        5.0       0.54      0.40      0.46      4644\n",
      "        6.0       0.75      0.73      0.74     78266\n",
      "        7.0       0.56      0.33      0.42     10024\n",
      "        8.0       0.00      0.00      0.00        14\n",
      "        9.0       0.57      0.41      0.48      6306\n",
      "       10.0       0.18      0.03      0.05       953\n",
      "       11.0       0.60      0.43      0.50      7094\n",
      "\n",
      "avg / total       0.68      0.68      0.67    275791\n",
      " \n",
      "\n"
     ]
    }
   ],
   "source": [
    "from sklearn.ensemble import RandomForestClassifier\n",
    "\n",
    "clf = RandomForestClassifier(n_estimators=10, max_depth=20, max_features=3)\n",
    "clf = clf.fit(x_train, y_train)\n",
    "\n",
    "measure_performance(x_test, y_test, clf, show_classification_report=True, show_confusion_matrix=False)"
   ]
  },
  {
   "cell_type": "code",
   "execution_count": 63,
   "metadata": {},
   "outputs": [
    {
     "name": "stdout",
     "output_type": "stream",
     "text": [
      "Accuracy:0.570 \n",
      "\n",
      "Classification report\n",
      "             precision    recall  f1-score   support\n",
      "\n",
      "        0.0       0.53      0.77      0.63     69547\n",
      "        1.0       0.69      0.20      0.31      6578\n",
      "        2.0       0.67      0.47      0.55     41168\n",
      "        3.0       0.64      0.35      0.45     27049\n",
      "        4.0       0.42      0.50      0.45     24148\n",
      "        5.0       0.50      0.18      0.27      4644\n",
      "        6.0       0.62      0.71      0.67     78266\n",
      "        7.0       0.48      0.15      0.23     10024\n",
      "        8.0       0.00      0.00      0.00        14\n",
      "        9.0       0.53      0.22      0.31      6306\n",
      "       10.0       0.10      0.01      0.02       953\n",
      "       11.0       0.55      0.25      0.34      7094\n",
      "\n",
      "avg / total       0.58      0.57      0.55    275791\n",
      " \n",
      "\n"
     ]
    },
    {
     "name": "stderr",
     "output_type": "stream",
     "text": [
      "/Users/robvangastel/anaconda/lib/python3.6/site-packages/sklearn/metrics/classification.py:1113: UndefinedMetricWarning: Precision and F-score are ill-defined and being set to 0.0 in labels with no predicted samples.\n",
      "  'precision', 'predicted', average, warn_for)\n"
     ]
    }
   ],
   "source": [
    "from sklearn.neighbors import KNeighborsClassifier\n",
    "\n",
    "clf = KNeighborsClassifier()\n",
    "clf = clf.fit(x_train, y_train)\n",
    "\n",
    "measure_performance(x_test, y_test, clf, show_classification_report=True, show_confusion_matrix=False)"
   ]
  },
  {
   "cell_type": "markdown",
   "metadata": {},
   "source": [
    "We got a pretty highscore and it's related to the linknummer small example:"
   ]
  },
  {
   "cell_type": "code",
   "execution_count": null,
   "metadata": {
    "collapsed": true
   },
   "outputs": [],
   "source": [
    "from sklearn.neighbors import KNeighborsClassifier\n",
    "\n",
    "# Reduce the size of the X-axis to 2 features.\n",
    "x = pd_all[['INTENSITEI', 'SPEED']]\n",
    "x_train, x_test, y_train, y_test = train_test_split(x, y, test_size=0.25, random_state=33)\n",
    "\n",
    "clf = KNeighborsClassifier()\n",
    "clf = clf.fit(x_train, y_train)\n",
    "\n",
    "measure_performance(x_test, y_test, clf, show_classification_report=True, show_confusion_matrix=False)"
   ]
  },
  {
   "cell_type": "markdown",
   "metadata": {},
   "source": [
    "To see if we could get a higher score we grouped up the label in smaller groups."
   ]
  },
  {
   "cell_type": "code",
   "execution_count": 80,
   "metadata": {
    "collapsed": true
   },
   "outputs": [],
   "source": [
    "# Second highway label group\n",
    "pd_all['HIGHWAY_LABEL2'] = pd_all['HIGHWAY'].map({'cycleway' : 0, 'secondary': 2, 'residential': 1, 'tertiary': 2\n",
    "                                           , 'footway': 1, 'pedestrian': 1, 'unclassified': 3, 'service': 2\n",
    "                                           , 'secondary_link': 2, 'path': 1, 'steps': 1, 'track': 0 })\n",
    "\n",
    "pd_all = pd_all.dropna()"
   ]
  },
  {
   "cell_type": "code",
   "execution_count": 81,
   "metadata": {},
   "outputs": [
    {
     "data": {
      "image/png": "[encoded data removed]",
      "text/plain": [
       "<matplotlib.figure.Figure at 0x11c089780>"
      ]
     },
     "metadata": {},
     "output_type": "display_data"
    }
   ],
   "source": [
    "# Features\n",
    "x = pd_all[['INTENSITEI', 'SPEED', 'LINKNUMMER']]\n",
    "# Label\n",
    "y = pd_all['HIGHWAY_LABEL2']\n",
    "\n",
    "# Check data for correlation\n",
    "plot_corr(x)"
   ]
  },
  {
   "cell_type": "code",
   "execution_count": 82,
   "metadata": {},
   "outputs": [
    {
     "name": "stdout",
     "output_type": "stream",
     "text": [
      "(827371, 3) (827371,)\n"
     ]
    }
   ],
   "source": [
    "x_train, x_test, y_train, y_test = train_test_split(x, y, test_size=0.25, random_state=33)\n",
    "print(x_train.shape, y_train.shape)"
   ]
  },
  {
   "cell_type": "code",
   "execution_count": 83,
   "metadata": {},
   "outputs": [
    {
     "name": "stdout",
     "output_type": "stream",
     "text": [
      "Accuracy:0.720 \n",
      "\n",
      "Classification report\n",
      "             precision    recall  f1-score   support\n",
      "\n",
      "          0       0.70      0.77      0.73     76641\n",
      "          1       0.71      0.72      0.72     77219\n",
      "          2       0.70      0.62      0.66     43665\n",
      "          3       0.76      0.72      0.74     78266\n",
      "\n",
      "avg / total       0.72      0.72      0.72    275791\n",
      " \n",
      "\n"
     ]
    }
   ],
   "source": [
    "from sklearn.ensemble import RandomForestClassifier\n",
    "\n",
    "clf = RandomForestClassifier(n_estimators=10, max_depth=20, max_features=3)\n",
    "clf = clf.fit(x_train, y_train)\n",
    "\n",
    "measure_performance(x_test, y_test, clf, show_classification_report=True, show_confusion_matrix=False)"
   ]
  },
  {
   "cell_type": "code",
   "execution_count": 84,
   "metadata": {},
   "outputs": [
    {
     "name": "stdout",
     "output_type": "stream",
     "text": [
      "Accuracy:0.607 \n",
      "\n",
      "Classification report\n",
      "             precision    recall  f1-score   support\n",
      "\n",
      "          0       0.57      0.70      0.63     76641\n",
      "          1       0.61      0.61      0.61     77219\n",
      "          2       0.62      0.32      0.43     43665\n",
      "          3       0.65      0.67      0.66     78266\n",
      "\n",
      "avg / total       0.61      0.61      0.60    275791\n",
      " \n",
      "\n"
     ]
    }
   ],
   "source": [
    "from sklearn.neighbors import KNeighborsClassifier\n",
    "\n",
    "clf = KNeighborsClassifier()\n",
    "clf = clf.fit(x_train, y_train)\n",
    "\n",
    "measure_performance(x_test, y_test, clf, show_classification_report=True, show_confusion_matrix=False)"
   ]
  },
  {
   "cell_type": "markdown",
   "metadata": {
    "collapsed": true
   },
   "source": [
    "Too show how it works we wanted to predict other years where the data wasn't included."
   ]
  },
  {
   "cell_type": "code",
   "execution_count": 133,
   "metadata": {
    "collapsed": true
   },
   "outputs": [],
   "source": [
    "# Clean the data for 2016\n",
    "pd_2016['HIGHWAY_LABEL2'] = pd_2016['HIGHWAY'].map({'cycleway' : 0, 'secondary': 2, 'residential': 1, 'tertiary': 2\n",
    "                                           , 'footway': 1, 'pedestrian': 1, 'unclassified': 3, 'service': 2\n",
    "                                           , 'secondary_link': 2, 'path': 1, 'steps': 1, 'track': 0 })\n",
    "\n",
    "pd_2016['INTENSITEI'] = pd_2016['INTENSITEI'].astype(float)\n",
    "pd_2016['SPEED'] = pd_2016['SPEED'].astype(float)\n",
    "pd_2016['LINKNUMMER'] = pd_2016['LINKNUMMER'].astype(float)\n",
    "\n",
    "\n",
    "x = pd_2016[['INTENSITEI', 'SPEED', 'LINKNUMMER']]\n",
    "y = pd_2016[['HIGHWAY_LABEL2']]\n",
    "\n",
    "# Convert the x, y-axis to matrix\n",
    "y = y.as_matrix()\n",
    "x = x.as_matrix()"
   ]
  },
  {
   "cell_type": "code",
   "execution_count": 122,
   "metadata": {
    "collapsed": true
   },
   "outputs": [],
   "source": [
    "y_pred = clf.predict(x)\n",
    "print(metrics.accuracy_score(y, y_pred))"
   ]
  },
  {
   "cell_type": "code",
   "execution_count": null,
   "metadata": {},
   "outputs": [],
   "source": [
    "from sklearn.pipeline import Pipeline\n",
    "from sklearn.model_selection import cross_val_score\n",
    "\n",
    "neigh = KNeighborsClassifier(n_neighbors=3)\n",
    "neigh.fit(x_train,y_train)\n",
    "\n",
    "predictions = neigh.predict_proba(x_test)\n",
    "predictions.head()"
   ]
  },
  {
   "cell_type": "code",
   "execution_count": null,
   "metadata": {},
   "outputs": [],
   "source": [
    "df_final = pd.DataFrame({\n",
    "    'Intensiteit' : x_test['INTENSITEI'],\n",
    "    'Speed': x_test['SPEED'],\n",
    "    'LinkNummer': x_test['LINKNUMMER'],\n",
    "    'value_cycle': predictions[:,0],\n",
    "    'value_path': predictions[:,1],\n",
    "    'value_road': predictions[:,2],\n",
    "    'value_unclassified': predictions[:,3]\n",
    "})\n",
    "\n",
    "df_final.head()"
   ]
  },
  {
   "cell_type": "code",
   "execution_count": null,
   "metadata": {
    "collapsed": true
   },
   "outputs": [],
   "source": []
  }
 ],
 "metadata": {
  "kernelspec": {
   "display_name": "Python 3",
   "language": "python",
   "name": "python3"
  },
  "language_info": {
   "codemirror_mode": {
    "name": "ipython",
    "version": 3
   },
   "file_extension": ".py",
   "mimetype": "text/x-python",
   "name": "python",
   "nbconvert_exporter": "python",
   "pygments_lexer": "ipython3",
   "version": "3.6.1"
  }
 },
 "nbformat": 4,
 "nbformat_minor": 2
}
