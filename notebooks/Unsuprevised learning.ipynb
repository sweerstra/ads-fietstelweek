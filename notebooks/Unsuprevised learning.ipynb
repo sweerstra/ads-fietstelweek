{
 "cells": [
  {
   "cell_type": "markdown",
   "metadata": {},
   "source": [
    "## Unsuprevised learning\n",
    "\n",
    "We gaan kijken wat er mogelijk is met unsuprevised learning, door de data van de fiets snelwegen met elkaar te vergelijken."
   ]
  },
  {
   "cell_type": "code",
   "execution_count": null,
   "metadata": {
    "collapsed": true
   },
   "outputs": [],
   "source": [
    "# Library imports\n",
    "import pandas as pd\n",
    "import geopandas as gpd\n",
    "import matplotlib.pyplot as plt\n",
    "from sklearn import metrics"
   ]
  },
  {
   "cell_type": "code",
   "execution_count": 1,
   "metadata": {
    "collapsed": true
   },
   "outputs": [],
   "source": [
    "# Functions for correlation and performance measurement\n",
    "\n",
    "# Check correlation within the data\n",
    "def plot_corr(df,size=10):\n",
    "    corr = df.corr()\n",
    "    fig, ax = plt.subplots(figsize=(size, size))\n",
    "    ax.matshow(corr,cmap=plt.cm.Oranges)\n",
    "    plt.xticks(range(len(corr.columns)), corr.columns)\n",
    "    plt.yticks(range(len(corr.columns)), corr.columns)\n",
    "    for tick in ax.get_xticklabels():\n",
    "        tick.set_rotation(45) \n",
    "    plt.show()\n",
    "\n",
    "# Measure performance \n",
    "def measure_performance(X, y, clf, show_accuracy=True, show_classification_report=True, show_confusion_matrix=True):\n",
    "    y_pred = clf.predict(X)\n",
    "    if show_accuracy:\n",
    "        print(\"Accuracy:{0:.3f}\".format(metrics.accuracy_score(y, y_pred)),\"\\n\")\n",
    "\n",
    "    if show_classification_report:\n",
    "        print(\"Classification report\")\n",
    "        print(metrics.classification_report(y,y_pred),\"\\n\")\n",
    "\n",
    "    if show_confusion_matrix:\n",
    "        print(\"Confusion matrix\")\n",
    "        print(metrics.confusion_matrix(y,y_pred),\"\\n\")"
   ]
  },
  {
   "cell_type": "markdown",
   "metadata": {},
   "source": [
    "For the unsuprevised we choose to use K-Means, K nearest neightbore. "
   ]
  },
  {
   "cell_type": "code",
   "execution_count": 33,
   "metadata": {},
   "outputs": [
    {
     "name": "stdout",
     "output_type": "stream",
     "text": [
      "<class 'geopandas.geodataframe.GeoDataFrame'>\n",
      "RangeIndex: 1121087 entries, 0 to 1121086\n",
      "Data columns (total 9 columns):\n",
      "LINKNUMMER    1121087 non-null int64\n",
      "SOURCE        1121087 non-null int64\n",
      "TARGET        1121087 non-null int64\n",
      "HIGHWAY       1121087 non-null object\n",
      "SPEED         1121087 non-null float64\n",
      "INTENSITEI    1121087 non-null int64\n",
      "INTENSI_01    1121087 non-null int64\n",
      "SNELHEID_R    1121087 non-null float64\n",
      "geometry      1121083 non-null object\n",
      "dtypes: float64(2), int64(5), object(2)\n",
      "memory usage: 77.0+ MB\n"
     ]
    }
   ],
   "source": [
    "# Import the dataframe\n",
    "pd_all = gpd.read_file('data/netwerk-2016.json')\n",
    "\n",
    "pd_all.info()"
   ]
  },
  {
   "cell_type": "code",
   "execution_count": 34,
   "metadata": {},
   "outputs": [],
   "source": [
    "# Map the highway to numbers\n",
    "pd_all['HIGHWAY_LABEL'] = pd_all['HIGHWAY'].map({'cycleway' : 0, 'secondary': 1, 'residential': 1, 'tertiary': 3\n",
    "                                                   , 'footway': 4, 'pedestrian': 5, 'unclassified': 6, 'service': 7\n",
    "                                                   , 'secondary_link': 8, 'path': 9,'steps': 10, 'track': 11 })\n",
    "\n",
    "\n",
    "dictionary = {'cycleway' : 0, 'secondary': 1, 'residential': 1, 'tertiary': 3\n",
    "                                                   , 'footway': 4, 'pedestrian': 5, 'unclassified': 6, 'service': 7\n",
    "                                                   , 'secondary_link': 8, 'path': 9,'steps': 10, 'track': 11 }\n",
    "\n",
    "# Convert all numbers to numbers\n",
    "pd_all['LINKNUMMER'] = pd_all['LINKNUMMER'].astype(float)\n",
    "pd_all['SNELHEID_R'] = pd_all['SNELHEID_R'].astype(float)\n",
    "pd_all['SPEED'] = pd_all['SPEED'].astype(float)\n",
    "pd_all['INTENSITEI'] = pd_all['INTENSITEI'].astype(float)\n",
    "pd_all['INTENSI_01'] = pd_all['INTENSI_01'].astype(float)\n",
    "\n",
    "# Drop all NaN values in the dataset\n",
    "pd_all = pd_all.dropna()"
   ]
  },
  {
   "cell_type": "code",
   "execution_count": 35,
   "metadata": {},
   "outputs": [],
   "source": [
    "from sklearn.cluster import KMeans\n",
    "\n",
    "# Fill dataset\n",
    "dataset = pd_all[['INTENSITEI', 'HIGHWAY_LABEL', 'SPEED', 'LINKNUMMER']]\n",
    "\n",
    "# Convert DataFrame to matrix\n",
    "mat = dataset.as_matrix()\n",
    "\n",
    "# Using sklearn\n",
    "km = KMeans(n_clusters=5)\n",
    "km.fit(mat)\n",
    "\n",
    "# Get cluster assignment labels\n",
    "labels = km.labels_\n",
    "\n",
    "# Format results as a DataFrame\n",
    "results = pd.DataFrame([dataset.index,labels]).T"
   ]
  },
  {
   "cell_type": "code",
   "execution_count": null,
   "metadata": {},
   "outputs": [],
   "source": [
    "# TODO: Show result"
   ]
  },
  {
   "cell_type": "code",
   "execution_count": null,
   "metadata": {
    "collapsed": true
   },
   "outputs": [],
   "source": [
    "results[1][0]\n",
    "\n",
    "\n",
    "def setResult(row):\n",
    "    try:\n",
    "        \n",
    "    except:\n",
    "        pass\n",
    "    \n",
    "df_final = dataset.apply(setResults, axis=1)  \n",
    "\n",
    "dataset.apply(dataset['HIGHWAY_PREDICT'].apply(lambda x: results[1](x)))\n",
    "\n",
    "df_final = pd.DataFrame({\n",
    "    'Intensiteit' : x_test['INTENSITEI'],\n",
    "    'Speed': x_test['SPEED'],\n",
    "    'LinkNummer': x_test['LINKNUMMER'],\n",
    "    'value_cycle': results[:,0],\n",
    "    'value_path': results[:,1],\n",
    "    'value_road': results[:,2],\n",
    "    'value_unclassified': results[:,3]\n",
    "})\n",
    "\n",
    "df_final"
   ]
  }
 ],
 "metadata": {
  "kernelspec": {
   "display_name": "Python 3",
   "language": "python",
   "name": "python3"
  },
  "language_info": {
   "codemirror_mode": {
    "name": "ipython",
    "version": 3
   },
   "file_extension": ".py",
   "mimetype": "text/x-python",
   "name": "python",
   "nbconvert_exporter": "python",
   "pygments_lexer": "ipython3",
   "version": "3.6.1"
  }
 },
 "nbformat": 4,
 "nbformat_minor": 2
}
